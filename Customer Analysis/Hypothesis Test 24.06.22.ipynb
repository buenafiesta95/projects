{
 "cells": [
  {
   "cell_type": "markdown",
   "id": "0b2f1121",
   "metadata": {},
   "source": [
    "## Import libraries"
   ]
  },
  {
   "cell_type": "code",
   "execution_count": 26,
   "id": "4ddf7e0d",
   "metadata": {},
   "outputs": [],
   "source": [
    "from scipy.stats import t\n",
    "import math"
   ]
  },
  {
   "cell_type": "markdown",
   "id": "306e5991",
   "metadata": {},
   "source": [
    "### Hypothesis test"
   ]
  },
  {
   "cell_type": "code",
   "execution_count": 27,
   "id": "f46c7d55",
   "metadata": {},
   "outputs": [
    {
     "data": {
      "text/plain": [
       "4.761904761904759"
      ]
     },
     "execution_count": 27,
     "metadata": {},
     "output_type": "execute_result"
    }
   ],
   "source": [
    "(130.1 - 120)/(21.21/math.sqrt(100))"
   ]
  },
  {
   "cell_type": "markdown",
   "id": "dfbd188f",
   "metadata": {},
   "source": [
    "### T-Student distribution"
   ]
  },
  {
   "cell_type": "code",
   "execution_count": 28,
   "id": "1252d049",
   "metadata": {},
   "outputs": [
    {
     "data": {
      "text/plain": [
       "-1.6603911559963895"
      ]
     },
     "execution_count": 28,
     "metadata": {},
     "output_type": "execute_result"
    }
   ],
   "source": [
    "tc = +- t.ppf(0.95, df=99)\n",
    "tc"
   ]
  },
  {
   "cell_type": "markdown",
   "id": "202044c8",
   "metadata": {},
   "source": [
    "yes the group is significantly different from the regular \n",
    "population. The range for the null hypothesis range from -1.660 - 1.660 but the result is 4.76190. So it is out of range."
   ]
  }
 ],
 "metadata": {
  "kernelspec": {
   "display_name": "Python 3 (ipykernel)",
   "language": "python",
   "name": "python3"
  },
  "language_info": {
   "codemirror_mode": {
    "name": "ipython",
    "version": 3
   },
   "file_extension": ".py",
   "mimetype": "text/x-python",
   "name": "python",
   "nbconvert_exporter": "python",
   "pygments_lexer": "ipython3",
   "version": "3.9.12"
  }
 },
 "nbformat": 4,
 "nbformat_minor": 5
}
