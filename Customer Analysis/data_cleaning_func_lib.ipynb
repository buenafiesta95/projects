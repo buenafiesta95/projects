{
 "cells": [
  {
   "cell_type": "markdown",
   "id": "1327bd8a",
   "metadata": {},
   "source": [
    "### Import Libraries"
   ]
  },
  {
   "cell_type": "code",
   "execution_count": 1,
   "id": "077563f2",
   "metadata": {},
   "outputs": [],
   "source": [
    "import numpy as np\n",
    "import pandas as pd\n",
    "import matplotlib.pyplot as plt\n",
    "%matplotlib inline\n",
    "import seaborn as sns"
   ]
  },
  {
   "cell_type": "markdown",
   "id": "0b7b6dc4",
   "metadata": {},
   "source": [
    "### Function"
   ]
  },
  {
   "cell_type": "code",
   "execution_count": null,
   "id": "348a8a50",
   "metadata": {},
   "outputs": [],
   "source": [
    "#Datei importieren\n",
    "file_df = pd.read_csv('Dateiname.csv')\n",
    "\n",
    "#Dateien miteinander zu einem DF verbinden\n",
    "file_df = pd.concat([file1,file2,file3],axis = 0, sort=False)\n",
    "\n",
    "#Index reseten\n",
    "file_df = file_df.reset_index(drop=True)\n",
    "\n",
    "#DF Info aufrufen, um zu überprüfen ob Zeilen fehlen wie bsp.\n",
    "#NaN Values, fehlende Zeilen zum überarbeiten oder zu wissen, welche columns\n",
    "#floats, int oder objects sind\n",
    "file_df.info()\n",
    "\n",
    "#Alle Werte einer Column überprüfen\n",
    "file_df['gender'].unique()\n",
    "\n",
    "#Die Häufigkeit der Werte eine Column sehen\n",
    "file_df.gender.value_counts(dropna=False)\n",
    "\n",
    "#Inhalte einer column formatieren und Einheitlich machen\n",
    "def clean_gender(x):\n",
    "    if x in ['M', 'Male']:\n",
    "        return 'M'\n",
    "    elif x in [\"F\", \"female\",\"Femal\"]:\n",
    "        return 'F'\n",
    "    else:\n",
    "        return 'U'\n",
    "\n",
    "#Count Missing Values in DataFrame\n",
    "df.isnull().sum()\n",
    "    \n",
    "#Counting all Values in a column\n",
    "ca_df.gender.value_counts(dropna=False)\n",
    "\n",
    "#Drop column\n",
    "ca_df.drop(labels=['Unnamed: 0'],axis=1,inplace=True)\n",
    "\n",
    "#Ausführung der Function\n",
    "ca_df['gender'] = list(map(clean_gender, ca_df['gender'])) \n",
    "    \n",
    "#Spalten unbennen\n",
    "def rename_column(ca_df):\n",
    "    ca_df[\"state\"].replace({'Cali':'California', \"AZ\" : \"Arizona\", \"WA\":\"Washington\"}, inplace=True )\n",
    "    return ca_df\n",
    "\n",
    "#Leere numerische Zeilen mit dem Average ausfüllen\n",
    "def replace_income(ca_df):\n",
    "    ca_df[\"income\"].replace({0: np.mean(ca_df['income'])}, inplace=True )\n",
    "    return ca_df\n",
    "\n",
    "#NaN ValuesRows mit Average ersetzen\n",
    "def replace_clv(ca_df): \n",
    "    ca_df[\"CLV\"].replace({0: np.mean(ca_df['CLV']), np.nan : np.mean(ca_df['CLV'])}, inplace=True )\n",
    "    return ca_df\n",
    "\n",
    "#Dataframe in kleine buchstaben formatieren\n",
    "def lower_case_column_names(ca_df):\n",
    "    ca_df.columns=[i.lower() for i in ca_df.columns]\n",
    "    return ca_df\n",
    "\n",
    "#String formatieren, um ungewünschte zeichen zu entfernen, wenn bsp. bei CLV ein \"%\" hinten steht\n",
    "ca_df['CLV'] = ca_df['CLV'].str.strip(\"%\")\n",
    "\n",
    "#Changing from categorical to numerical values\n",
    "ca_df['CLV'] = pd.to_numeric(ca_df[\"CLV\"], errors =\"coerce\")\n",
    "#.info() zum überprüfen ob umgewandelt worden ist\n",
    "\n",
    "#get numeric data\n",
    "num_val = df._get_numeric_data()\n",
    "\n",
    "#get categorical data\n",
    "cat_val = df.select_dtypes(include=\"object\")\n",
    "\n",
    "#drop columns\n",
    "df.drop(labels=['Unnamed: 0'],axis=1,inplace=True)\n",
    "\n"
   ]
  }
 ],
 "metadata": {
  "kernelspec": {
   "display_name": "Python 3 (ipykernel)",
   "language": "python",
   "name": "python3"
  },
  "language_info": {
   "codemirror_mode": {
    "name": "ipython",
    "version": 3
   },
   "file_extension": ".py",
   "mimetype": "text/x-python",
   "name": "python",
   "nbconvert_exporter": "python",
   "pygments_lexer": "ipython3",
   "version": "3.9.12"
  },
  "toc": {
   "base_numbering": 1,
   "nav_menu": {},
   "number_sections": true,
   "sideBar": true,
   "skip_h1_title": false,
   "title_cell": "Table of Contents",
   "title_sidebar": "Contents",
   "toc_cell": false,
   "toc_position": {},
   "toc_section_display": true,
   "toc_window_display": false
  }
 },
 "nbformat": 4,
 "nbformat_minor": 5
}
