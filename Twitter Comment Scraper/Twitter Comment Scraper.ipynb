{
 "cells": [
  {
   "cell_type": "markdown",
   "id": "7750f3f5",
   "metadata": {},
   "source": [
    "# Import Libraries"
   ]
  },
  {
   "cell_type": "code",
   "execution_count": 1,
   "id": "f70a3187",
   "metadata": {},
   "outputs": [],
   "source": [
    "import pandas as pd\n",
    "from tqdm.notebook import tqdm\n",
    "import snscrape.modules.twitter as sntwitter\n",
    "from collections import Counter"
   ]
  },
  {
   "cell_type": "markdown",
   "id": "70f664df",
   "metadata": {},
   "source": [
    "# Scraping Data"
   ]
  },
  {
   "cell_type": "code",
   "execution_count": 2,
   "id": "3d25e6f8",
   "metadata": {},
   "outputs": [
    {
     "data": {
      "application/vnd.jupyter.widget-view+json": {
       "model_id": "c01b51f287464ad789b76e5337109991",
       "version_major": 2,
       "version_minor": 0
      },
      "text/plain": [
       "  0%|          | 0/5000 [00:00<?, ?it/s]"
      ]
     },
     "metadata": {},
     "output_type": "display_data"
    }
   ],
   "source": [
    "scraper = sntwitter.TwitterSearchScraper(\"Arbitrum\")\n",
    "\n",
    "tweets = []\n",
    "n_tweets = 5000\n",
    "\n",
    "for i , tweet in tqdm(enumerate(scraper.get_items()),total=n_tweets):\n",
    "    data = [\n",
    "        tweet.date,\n",
    "        tweet.rawContent,\n",
    "        tweet.cashtags,\n",
    "    ]\n",
    "    tweets.append(data)\n",
    "    if i > n_tweets:\n",
    "        break"
   ]
  },
  {
   "cell_type": "code",
   "execution_count": 3,
   "id": "a74f210d",
   "metadata": {},
   "outputs": [],
   "source": [
    "tweet_df =pd.DataFrame(\n",
    "    tweets, columns=[\"date\",\"content\",\"cashtags\"]\n",
    ")\n",
    "tweet_df.to_csv(\"GRAIL Comment Scraper.csv\", index=False)"
   ]
  },
  {
   "cell_type": "code",
   "execution_count": 4,
   "id": "53466df9",
   "metadata": {
    "scrolled": true
   },
   "outputs": [
    {
     "data": {
      "text/plain": [
       "0       [FB, ARB, SFUND, USDT]\n",
       "1                         None\n",
       "2                         None\n",
       "3                         None\n",
       "4                   [ARB, URD]\n",
       "                 ...          \n",
       "4997                      None\n",
       "4998                      None\n",
       "4999                     [AFA]\n",
       "5000                      None\n",
       "5001                      None\n",
       "Name: cashtags, Length: 5002, dtype: object"
      ]
     },
     "execution_count": 4,
     "metadata": {},
     "output_type": "execute_result"
    }
   ],
   "source": [
    "tweet_df[\"cashtags\"]"
   ]
  },
  {
   "cell_type": "code",
   "execution_count": 5,
   "id": "9ab55cef",
   "metadata": {},
   "outputs": [],
   "source": [
    "#fill null with \"unknown\"\n",
    "#tweet_df.fillna(\"Unknown\",inplace=True)"
   ]
  },
  {
   "cell_type": "code",
   "execution_count": 6,
   "id": "bc3014ee",
   "metadata": {},
   "outputs": [
    {
     "data": {
      "text/html": [
       "<div>\n",
       "<style scoped>\n",
       "    .dataframe tbody tr th:only-of-type {\n",
       "        vertical-align: middle;\n",
       "    }\n",
       "\n",
       "    .dataframe tbody tr th {\n",
       "        vertical-align: top;\n",
       "    }\n",
       "\n",
       "    .dataframe thead th {\n",
       "        text-align: right;\n",
       "    }\n",
       "</style>\n",
       "<table border=\"1\" class=\"dataframe\">\n",
       "  <thead>\n",
       "    <tr style=\"text-align: right;\">\n",
       "      <th></th>\n",
       "      <th>date</th>\n",
       "      <th>content</th>\n",
       "      <th>cashtags</th>\n",
       "    </tr>\n",
       "  </thead>\n",
       "  <tbody>\n",
       "    <tr>\n",
       "      <th>0</th>\n",
       "      <td>2023-03-27 20:58:44+00:00</td>\n",
       "      <td>🥳 Sayel Ahmed Giveaway ！💰\\n\\n🏆 Prize Pool : $0...</td>\n",
       "      <td>[FB, ARB, SFUND, USDT]</td>\n",
       "    </tr>\n",
       "    <tr>\n",
       "      <th>1</th>\n",
       "      <td>2023-03-27 20:58:44+00:00</td>\n",
       "      <td>@arbitrum @WombatExchange https://t.co/q718lzJGkD</td>\n",
       "      <td>None</td>\n",
       "    </tr>\n",
       "    <tr>\n",
       "      <th>2</th>\n",
       "      <td>2023-03-27 20:58:41+00:00</td>\n",
       "      <td>@layer3xyz @arbitrum 1800</td>\n",
       "      <td>None</td>\n",
       "    </tr>\n",
       "    <tr>\n",
       "      <th>3</th>\n",
       "      <td>2023-03-27 20:58:38+00:00</td>\n",
       "      <td>@MINDGames_io For more information, the projec...</td>\n",
       "      <td>None</td>\n",
       "    </tr>\n",
       "    <tr>\n",
       "      <th>4</th>\n",
       "      <td>2023-03-27 20:58:25+00:00</td>\n",
       "      <td>Exciting news for DeFi enthusiasts! Check out ...</td>\n",
       "      <td>[ARB, URD]</td>\n",
       "    </tr>\n",
       "    <tr>\n",
       "      <th>...</th>\n",
       "      <td>...</td>\n",
       "      <td>...</td>\n",
       "      <td>...</td>\n",
       "    </tr>\n",
       "    <tr>\n",
       "      <th>4997</th>\n",
       "      <td>2023-03-27 13:52:44+00:00</td>\n",
       "      <td>@Cryptostepper09 @AlphaSeeker21 @arbitrum Ahah...</td>\n",
       "      <td>None</td>\n",
       "    </tr>\n",
       "    <tr>\n",
       "      <th>4998</th>\n",
       "      <td>2023-03-27 13:52:41+00:00</td>\n",
       "      <td>@aprlia_alya @Arbitrum_Space @Auradx_ai @Telko...</td>\n",
       "      <td>None</td>\n",
       "    </tr>\n",
       "    <tr>\n",
       "      <th>4999</th>\n",
       "      <td>2023-03-27 13:52:33+00:00</td>\n",
       "      <td>@FlokiAi_Arb $AFA #ArbFlokiAI #Arbitrum #floki...</td>\n",
       "      <td>[AFA]</td>\n",
       "    </tr>\n",
       "    <tr>\n",
       "      <th>5000</th>\n",
       "      <td>2023-03-27 13:52:31+00:00</td>\n",
       "      <td>@BitStubs The Arbitrum airdrop is just 3 hours...</td>\n",
       "      <td>None</td>\n",
       "    </tr>\n",
       "    <tr>\n",
       "      <th>5001</th>\n",
       "      <td>2023-03-27 13:52:20+00:00</td>\n",
       "      <td>@Arbisphere @ArbitrumDailyTK @ArbitrumNews_ @a...</td>\n",
       "      <td>None</td>\n",
       "    </tr>\n",
       "  </tbody>\n",
       "</table>\n",
       "<p>5002 rows × 3 columns</p>\n",
       "</div>"
      ],
      "text/plain": [
       "                          date  \\\n",
       "0    2023-03-27 20:58:44+00:00   \n",
       "1    2023-03-27 20:58:44+00:00   \n",
       "2    2023-03-27 20:58:41+00:00   \n",
       "3    2023-03-27 20:58:38+00:00   \n",
       "4    2023-03-27 20:58:25+00:00   \n",
       "...                        ...   \n",
       "4997 2023-03-27 13:52:44+00:00   \n",
       "4998 2023-03-27 13:52:41+00:00   \n",
       "4999 2023-03-27 13:52:33+00:00   \n",
       "5000 2023-03-27 13:52:31+00:00   \n",
       "5001 2023-03-27 13:52:20+00:00   \n",
       "\n",
       "                                                content  \\\n",
       "0     🥳 Sayel Ahmed Giveaway ！💰\\n\\n🏆 Prize Pool : $0...   \n",
       "1     @arbitrum @WombatExchange https://t.co/q718lzJGkD   \n",
       "2                             @layer3xyz @arbitrum 1800   \n",
       "3     @MINDGames_io For more information, the projec...   \n",
       "4     Exciting news for DeFi enthusiasts! Check out ...   \n",
       "...                                                 ...   \n",
       "4997  @Cryptostepper09 @AlphaSeeker21 @arbitrum Ahah...   \n",
       "4998  @aprlia_alya @Arbitrum_Space @Auradx_ai @Telko...   \n",
       "4999  @FlokiAi_Arb $AFA #ArbFlokiAI #Arbitrum #floki...   \n",
       "5000  @BitStubs The Arbitrum airdrop is just 3 hours...   \n",
       "5001  @Arbisphere @ArbitrumDailyTK @ArbitrumNews_ @a...   \n",
       "\n",
       "                    cashtags  \n",
       "0     [FB, ARB, SFUND, USDT]  \n",
       "1                       None  \n",
       "2                       None  \n",
       "3                       None  \n",
       "4                 [ARB, URD]  \n",
       "...                      ...  \n",
       "4997                    None  \n",
       "4998                    None  \n",
       "4999                   [AFA]  \n",
       "5000                    None  \n",
       "5001                    None  \n",
       "\n",
       "[5002 rows x 3 columns]"
      ]
     },
     "execution_count": 6,
     "metadata": {},
     "output_type": "execute_result"
    }
   ],
   "source": [
    "tweet_df"
   ]
  },
  {
   "cell_type": "code",
   "execution_count": 7,
   "id": "f8f30c31",
   "metadata": {},
   "outputs": [],
   "source": [
    "# Liste der zu ignorierenden Cashtags\n",
    "ignore_list = ['$BTC', '$ARB', '$ETH', \"$Arb\",\"$USDC\",\"$arb\",\"$BNB\",\"$USDT\",\"$OP\",\"$MATIC\", \"$BONE\", \"$BLUR\", \"$SHIB\",\n",
    "               \"$APE\", \"$EGGS\", \"$APT\", \"$FIL\", \"$HEX\", \"$DOGE\", \"$EVMOS\", \"$SHI\",\"$10,000\", \"$2000+\", \"$10\", \"$5OO,OOO!\",\n",
    "               \"$3000!\", \"$500\", \"$1500\"]\n",
    "\n",
    "# Extract cashtags from the tweet content\n",
    "def extract_cashtags(text):\n",
    "    words = text.split()\n",
    "    return [word for word in words if word.startswith(\"$\")]\n",
    "\n",
    "# Apply the extract_cashtags function to each tweet and store the results in a new column\n",
    "tweet_df['cashtags'] = tweet_df['content'].apply(extract_cashtags)\n",
    "\n",
    "# Create a new DataFrame with one row for each cashtag mentioned in each tweet\n",
    "rows = []\n",
    "for index, row in tweet_df.iterrows():\n",
    "    for cashtag in row['cashtags']:\n",
    "        rows.append({'Cashtag': cashtag})\n",
    "\n",
    "# Convert the rows to a DataFrame\n",
    "cashtag_df = pd.DataFrame(rows)\n",
    "\n",
    "# Filter out the ignored cashtags\n",
    "cashtag_df = cashtag_df[~cashtag_df['Cashtag'].isin(ignore_list)]\n",
    "\n",
    "# Count the frequency of each cashtag\n",
    "cashtag_counts = Counter(cashtag_df['Cashtag'])\n",
    "\n",
    "# Get the top 100 most common cashtags\n",
    "top_cashtags = cashtag_counts.most_common(50)\n",
    "\n",
    "# Convert the list of tuples to a DataFrame\n",
    "top_cashtags_df = pd.DataFrame(top_cashtags, columns=['Cashtag', 'Frequency'])\n",
    "\n",
    "# Export the results to Excel\n",
    "top_cashtags_df.to_excel('arbi_presales_27.03.2023.xlsx', index=False)"
   ]
  },
  {
   "cell_type": "code",
   "execution_count": 8,
   "id": "3c739f5a",
   "metadata": {},
   "outputs": [
    {
     "name": "stdout",
     "output_type": "stream",
     "text": [
      "    Cashtag  Frequency\n",
      "0      $ZSP        167\n",
      "1      $URD         62\n",
      "2         $         58\n",
      "3     $AiFi         41\n",
      "4    $SFUND         28\n",
      "5      $BNI         26\n",
      "6     $RACE         23\n",
      "7     $BARB         20\n",
      "8     $BEAM         19\n",
      "9      $ARD         17\n",
      "10     $GMX         16\n",
      "11    $VELA         14\n",
      "12    $Prrr         14\n",
      "13   $LOTTO         11\n",
      "14    $ONYX          9\n",
      "15     $100          9\n",
      "16     $MMT          9\n",
      "17     $JOE          9\n",
      "18     $WMX          9\n",
      "19     $XRP          8\n",
      "20       $1          8\n",
      "21     $SRP          8\n",
      "22    $PRRR          8\n",
      "23      $FB          7\n",
      "24     $ZDX          7\n",
      "25   $MAGIC          7\n",
      "26     $ARX          7\n",
      "27     $OVL          7\n",
      "28     $DPX          6\n",
      "29     $LKT          6\n",
      "30     $GRV          6\n",
      "31    $AFA.          6\n",
      "32      $ID          6\n",
      "33     $AFA          6\n",
      "34     $PBX          5\n",
      "35     $GNS          5\n",
      "36      $ZZ          5\n",
      "37     $PLS          5\n",
      "38   $PESOS          5\n",
      "39  $HOBBES          5\n",
      "40   $darge          5\n",
      "41     $WOM          5\n",
      "42    $ARBK          5\n",
      "43     $FET          5\n",
      "44    $AGIX          5\n",
      "45  $Hobbes          5\n",
      "46    $ZEUS          5\n",
      "47     $GCR          4\n",
      "48     $AGI          4\n",
      "49    $WETH          4\n"
     ]
    }
   ],
   "source": [
    "print(top_cashtags_df)"
   ]
  },
  {
   "cell_type": "code",
   "execution_count": null,
   "id": "c546c6d2",
   "metadata": {},
   "outputs": [],
   "source": []
  },
  {
   "cell_type": "code",
   "execution_count": null,
   "id": "fb473e20",
   "metadata": {},
   "outputs": [],
   "source": []
  },
  {
   "cell_type": "code",
   "execution_count": null,
   "id": "ef0354d0",
   "metadata": {},
   "outputs": [],
   "source": []
  },
  {
   "cell_type": "code",
   "execution_count": null,
   "id": "4c7721d8",
   "metadata": {},
   "outputs": [],
   "source": []
  },
  {
   "cell_type": "code",
   "execution_count": null,
   "id": "783df249",
   "metadata": {},
   "outputs": [],
   "source": []
  },
  {
   "cell_type": "code",
   "execution_count": null,
   "id": "7852cdec",
   "metadata": {},
   "outputs": [],
   "source": []
  },
  {
   "cell_type": "code",
   "execution_count": null,
   "id": "a3249190",
   "metadata": {},
   "outputs": [],
   "source": []
  }
 ],
 "metadata": {
  "kernelspec": {
   "display_name": "Python 3 (ipykernel)",
   "language": "python",
   "name": "python3"
  },
  "language_info": {
   "codemirror_mode": {
    "name": "ipython",
    "version": 3
   },
   "file_extension": ".py",
   "mimetype": "text/x-python",
   "name": "python",
   "nbconvert_exporter": "python",
   "pygments_lexer": "ipython3",
   "version": "3.9.12"
  },
  "toc": {
   "base_numbering": 1,
   "nav_menu": {},
   "number_sections": true,
   "sideBar": true,
   "skip_h1_title": false,
   "title_cell": "Table of Contents",
   "title_sidebar": "Contents",
   "toc_cell": false,
   "toc_position": {},
   "toc_section_display": true,
   "toc_window_display": false
  }
 },
 "nbformat": 4,
 "nbformat_minor": 5
}
