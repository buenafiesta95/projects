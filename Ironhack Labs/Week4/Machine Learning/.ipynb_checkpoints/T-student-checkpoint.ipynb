{
 "cells": [
  {
   "cell_type": "code",
   "execution_count": 4,
   "id": "1338571f",
   "metadata": {},
   "outputs": [],
   "source": [
    "import scipy\n",
    "from scipy import stats"
   ]
  },
  {
   "cell_type": "markdown",
   "id": "f95a5b72",
   "metadata": {},
   "source": [
    "<b> Instructions\n",
    "It is assumed that the mean systolic blood pressure is μ = 120 mm Hg. In the Honolulu Heart Study, a sample of n = 100 people had an average systolic blood pressure of 130.1 mm Hg with a standard deviation of 21.21 mm Hg. Is the group significantly different (with respect to systolic blood pressure!) from the regular population?\n",
    "\n",
    "    1.Set up the hypothesis test.\n",
    "    2.Write down all the steps followed for setting up the test.\n",
    "    3.Calculate the test statistic by hand and also code it in Python. It should be 4.76190. What decision can you make based on this calculated value?\n",
    "\n",
    "\n",
    "If we don't have the stdeviation of population we have to use t-distribution"
   ]
  },
  {
   "cell_type": "markdown",
   "id": "2e45e42b",
   "metadata": {},
   "source": [
    "$ μ = 120 mm Hg $"
   ]
  },
  {
   "cell_type": "code",
   "execution_count": 15,
   "id": "5620da73",
   "metadata": {},
   "outputs": [],
   "source": [
    "#One sample, two tailed test\n",
    "#Hypothesis test\n",
    "\"\"\"\n",
    "Average systilic blood presure is 120 mm Hg\n",
    "\n",
    "Ho = the mean systolic blood pressure is  μ = 120 mm Hg\n",
    "Ha = the mean systolic blood pressure is  μ != 120 mm Hg\n",
    "\"\"\"\n",
    "\n",
    "#Collect sample of 100 and calculate the avg pressure\n",
    "#sample size\n",
    "n=100\n",
    "\n",
    "# avg systolic blood pressure\n",
    "#population mean\n",
    "mu = 130.1\n",
    "\n",
    "#sample mean\n",
    "mu_sample  = 120\n",
    "\n",
    "\n",
    "std_dev = 21.21"
   ]
  },
  {
   "cell_type": "code",
   "execution_count": 16,
   "id": "9db4e765",
   "metadata": {},
   "outputs": [
    {
     "data": {
      "text/plain": [
       "4.761904761904759"
      ]
     },
     "execution_count": 16,
     "metadata": {},
     "output_type": "execute_result"
    }
   ],
   "source": [
    "#Calculating test statistic\n",
    "ts = (mu - mu_sample) /((std_dev)/np.sqrt(n))\n",
    "ts"
   ]
  },
  {
   "cell_type": "code",
   "execution_count": 7,
   "id": "c17509ed",
   "metadata": {},
   "outputs": [],
   "source": [
    "#Setting the confidence level = 95%\n",
    "cl = 0.95\n",
    "#Zc(critical value for 95% confidence level)\n",
    "#We have to use t-student becauese qe dont have population std dev\n"
   ]
  },
  {
   "cell_type": "code",
   "execution_count": 20,
   "id": "f77257c4",
   "metadata": {},
   "outputs": [
    {
     "data": {
      "text/plain": [
       "1.9839715184496334"
      ]
     },
     "execution_count": 20,
     "metadata": {},
     "output_type": "execute_result"
    }
   ],
   "source": [
    "#Where is located the critical value of the t-student distribution\n",
    "#with 99 degrees of freedom and an area of 0.95? \n",
    "\n",
    "tc = scipy.stats.t.ppf(1-(0.05/2),df=n)\n",
    "tc"
   ]
  },
  {
   "cell_type": "markdown",
   "id": "463795af",
   "metadata": {},
   "source": [
    "'''\n",
    "tc = 1.984 < t = 4.76\n",
    "We decide to accept the null hypothesis \n",
    "the mean systolic blood pressure is  μ = 120 mm Hg\n",
    "\n",
    "'''"
   ]
  },
  {
   "cell_type": "code",
   "execution_count": null,
   "id": "3d95ab6c",
   "metadata": {},
   "outputs": [],
   "source": []
  }
 ],
 "metadata": {
  "kernelspec": {
   "display_name": "Python 3 (ipykernel)",
   "language": "python",
   "name": "python3"
  },
  "language_info": {
   "codemirror_mode": {
    "name": "ipython",
    "version": 3
   },
   "file_extension": ".py",
   "mimetype": "text/x-python",
   "name": "python",
   "nbconvert_exporter": "python",
   "pygments_lexer": "ipython3",
   "version": "3.9.12"
  },
  "toc": {
   "base_numbering": 1,
   "nav_menu": {},
   "number_sections": true,
   "sideBar": true,
   "skip_h1_title": false,
   "title_cell": "Table of Contents",
   "title_sidebar": "Contents",
   "toc_cell": false,
   "toc_position": {},
   "toc_section_display": true,
   "toc_window_display": false
  },
  "varInspector": {
   "cols": {
    "lenName": 16,
    "lenType": 16,
    "lenVar": 40
   },
   "kernels_config": {
    "python": {
     "delete_cmd_postfix": "",
     "delete_cmd_prefix": "del ",
     "library": "var_list.py",
     "varRefreshCmd": "print(var_dic_list())"
    },
    "r": {
     "delete_cmd_postfix": ") ",
     "delete_cmd_prefix": "rm(",
     "library": "var_list.r",
     "varRefreshCmd": "cat(var_dic_list()) "
    }
   },
   "types_to_exclude": [
    "module",
    "function",
    "builtin_function_or_method",
    "instance",
    "_Feature"
   ],
   "window_display": false
  }
 },
 "nbformat": 4,
 "nbformat_minor": 5
}
