{
 "cells": [
  {
   "cell_type": "code",
   "execution_count": 1,
   "id": "7104ad12",
   "metadata": {},
   "outputs": [],
   "source": [
    "import access"
   ]
  },
  {
   "cell_type": "code",
   "execution_count": 2,
   "id": "ddb7a90b",
   "metadata": {},
   "outputs": [],
   "source": [
    "import spotipy\n",
    "import json\n",
    "from spotipy.oauth2 import SpotifyClientCredentials\n",
    "\n",
    "#Initialize SpotiPy with user credentias\n",
    "sp = spotipy.Spotify(auth_manager=SpotifyClientCredentials(client_id= access.c_id,\n",
    "                                                           client_secret= access.c_se))"
   ]
  },
  {
   "cell_type": "markdown",
   "id": "233dfba8",
   "metadata": {},
   "source": [
    "## Loading Dataframe"
   ]
  },
  {
   "cell_type": "code",
   "execution_count": 3,
   "id": "75e14457",
   "metadata": {},
   "outputs": [],
   "source": [
    "import numpy as np\n",
    "import pandas as pd\n",
    "import pickle\n",
    "from sklearn import datasets # sklearn comes with some toy datasets to practise\n",
    "from sklearn.preprocessing import StandardScaler\n",
    "from sklearn.cluster import KMeans\n",
    "from matplotlib import pyplot\n",
    "from sklearn.metrics import silhouette_score\n",
    "from csv import DictReader\n",
    "import random\n",
    "import spotipy\n",
    "import json\n",
    "from spotipy.oauth2 import SpotifyClientCredentials"
   ]
  },
  {
   "cell_type": "code",
   "execution_count": 4,
   "id": "357c24c9",
   "metadata": {},
   "outputs": [
    {
     "data": {
      "text/html": [
       "<div>\n",
       "<style scoped>\n",
       "    .dataframe tbody tr th:only-of-type {\n",
       "        vertical-align: middle;\n",
       "    }\n",
       "\n",
       "    .dataframe tbody tr th {\n",
       "        vertical-align: top;\n",
       "    }\n",
       "\n",
       "    .dataframe thead th {\n",
       "        text-align: right;\n",
       "    }\n",
       "</style>\n",
       "<table border=\"1\" class=\"dataframe\">\n",
       "  <thead>\n",
       "    <tr style=\"text-align: right;\">\n",
       "      <th></th>\n",
       "      <th>danceability</th>\n",
       "      <th>energy</th>\n",
       "      <th>key</th>\n",
       "      <th>loudness</th>\n",
       "      <th>mode</th>\n",
       "      <th>speechiness</th>\n",
       "      <th>acousticness</th>\n",
       "      <th>instrumentalness</th>\n",
       "      <th>liveness</th>\n",
       "      <th>valence</th>\n",
       "      <th>tempo</th>\n",
       "      <th>duration_ms</th>\n",
       "      <th>time_signature</th>\n",
       "      <th>Clusters</th>\n",
       "    </tr>\n",
       "  </thead>\n",
       "  <tbody>\n",
       "    <tr>\n",
       "      <th>0</th>\n",
       "      <td>0.220</td>\n",
       "      <td>0.00528</td>\n",
       "      <td>1</td>\n",
       "      <td>-36.410</td>\n",
       "      <td>0</td>\n",
       "      <td>0.0457</td>\n",
       "      <td>0.99500</td>\n",
       "      <td>0.94400</td>\n",
       "      <td>0.1290</td>\n",
       "      <td>0.3040</td>\n",
       "      <td>74.434</td>\n",
       "      <td>362787</td>\n",
       "      <td>4</td>\n",
       "      <td>0</td>\n",
       "    </tr>\n",
       "    <tr>\n",
       "      <th>1</th>\n",
       "      <td>0.210</td>\n",
       "      <td>0.14100</td>\n",
       "      <td>0</td>\n",
       "      <td>-15.641</td>\n",
       "      <td>1</td>\n",
       "      <td>0.0363</td>\n",
       "      <td>0.35300</td>\n",
       "      <td>0.97300</td>\n",
       "      <td>0.2440</td>\n",
       "      <td>0.0381</td>\n",
       "      <td>98.395</td>\n",
       "      <td>119467</td>\n",
       "      <td>3</td>\n",
       "      <td>6</td>\n",
       "    </tr>\n",
       "    <tr>\n",
       "      <th>2</th>\n",
       "      <td>0.210</td>\n",
       "      <td>0.14100</td>\n",
       "      <td>0</td>\n",
       "      <td>-15.641</td>\n",
       "      <td>1</td>\n",
       "      <td>0.0363</td>\n",
       "      <td>0.35300</td>\n",
       "      <td>0.97300</td>\n",
       "      <td>0.2440</td>\n",
       "      <td>0.0381</td>\n",
       "      <td>98.395</td>\n",
       "      <td>119467</td>\n",
       "      <td>3</td>\n",
       "      <td>6</td>\n",
       "    </tr>\n",
       "    <tr>\n",
       "      <th>3</th>\n",
       "      <td>0.477</td>\n",
       "      <td>0.00612</td>\n",
       "      <td>5</td>\n",
       "      <td>-36.199</td>\n",
       "      <td>1</td>\n",
       "      <td>0.0587</td>\n",
       "      <td>0.99600</td>\n",
       "      <td>0.94300</td>\n",
       "      <td>0.0702</td>\n",
       "      <td>0.3560</td>\n",
       "      <td>101.196</td>\n",
       "      <td>161600</td>\n",
       "      <td>3</td>\n",
       "      <td>0</td>\n",
       "    </tr>\n",
       "    <tr>\n",
       "      <th>4</th>\n",
       "      <td>0.388</td>\n",
       "      <td>0.23100</td>\n",
       "      <td>4</td>\n",
       "      <td>-15.395</td>\n",
       "      <td>0</td>\n",
       "      <td>0.0321</td>\n",
       "      <td>0.92100</td>\n",
       "      <td>0.96800</td>\n",
       "      <td>0.1180</td>\n",
       "      <td>0.5330</td>\n",
       "      <td>139.654</td>\n",
       "      <td>125733</td>\n",
       "      <td>4</td>\n",
       "      <td>0</td>\n",
       "    </tr>\n",
       "    <tr>\n",
       "      <th>...</th>\n",
       "      <td>...</td>\n",
       "      <td>...</td>\n",
       "      <td>...</td>\n",
       "      <td>...</td>\n",
       "      <td>...</td>\n",
       "      <td>...</td>\n",
       "      <td>...</td>\n",
       "      <td>...</td>\n",
       "      <td>...</td>\n",
       "      <td>...</td>\n",
       "      <td>...</td>\n",
       "      <td>...</td>\n",
       "      <td>...</td>\n",
       "      <td>...</td>\n",
       "    </tr>\n",
       "    <tr>\n",
       "      <th>2477</th>\n",
       "      <td>0.659</td>\n",
       "      <td>0.62800</td>\n",
       "      <td>0</td>\n",
       "      <td>-8.685</td>\n",
       "      <td>0</td>\n",
       "      <td>0.1790</td>\n",
       "      <td>0.18600</td>\n",
       "      <td>0.00000</td>\n",
       "      <td>0.1050</td>\n",
       "      <td>0.2620</td>\n",
       "      <td>94.050</td>\n",
       "      <td>219427</td>\n",
       "      <td>4</td>\n",
       "      <td>5</td>\n",
       "    </tr>\n",
       "    <tr>\n",
       "      <th>2478</th>\n",
       "      <td>0.388</td>\n",
       "      <td>0.63100</td>\n",
       "      <td>4</td>\n",
       "      <td>-6.328</td>\n",
       "      <td>0</td>\n",
       "      <td>0.0391</td>\n",
       "      <td>0.00939</td>\n",
       "      <td>0.00474</td>\n",
       "      <td>0.3720</td>\n",
       "      <td>0.2760</td>\n",
       "      <td>112.033</td>\n",
       "      <td>201432</td>\n",
       "      <td>3</td>\n",
       "      <td>2</td>\n",
       "    </tr>\n",
       "    <tr>\n",
       "      <th>2479</th>\n",
       "      <td>0.538</td>\n",
       "      <td>0.55700</td>\n",
       "      <td>11</td>\n",
       "      <td>-8.678</td>\n",
       "      <td>1</td>\n",
       "      <td>0.0914</td>\n",
       "      <td>0.26200</td>\n",
       "      <td>0.91400</td>\n",
       "      <td>0.1020</td>\n",
       "      <td>0.5060</td>\n",
       "      <td>131.030</td>\n",
       "      <td>231724</td>\n",
       "      <td>4</td>\n",
       "      <td>9</td>\n",
       "    </tr>\n",
       "    <tr>\n",
       "      <th>2480</th>\n",
       "      <td>0.811</td>\n",
       "      <td>0.72600</td>\n",
       "      <td>0</td>\n",
       "      <td>-3.995</td>\n",
       "      <td>1</td>\n",
       "      <td>0.0813</td>\n",
       "      <td>0.15400</td>\n",
       "      <td>0.00000</td>\n",
       "      <td>0.1160</td>\n",
       "      <td>0.6660</td>\n",
       "      <td>131.027</td>\n",
       "      <td>264920</td>\n",
       "      <td>4</td>\n",
       "      <td>8</td>\n",
       "    </tr>\n",
       "    <tr>\n",
       "      <th>2481</th>\n",
       "      <td>0.647</td>\n",
       "      <td>0.51400</td>\n",
       "      <td>8</td>\n",
       "      <td>-10.050</td>\n",
       "      <td>1</td>\n",
       "      <td>0.0593</td>\n",
       "      <td>0.06550</td>\n",
       "      <td>0.00000</td>\n",
       "      <td>0.3980</td>\n",
       "      <td>0.3860</td>\n",
       "      <td>79.975</td>\n",
       "      <td>240693</td>\n",
       "      <td>4</td>\n",
       "      <td>1</td>\n",
       "    </tr>\n",
       "  </tbody>\n",
       "</table>\n",
       "<p>2482 rows × 14 columns</p>\n",
       "</div>"
      ],
      "text/plain": [
       "      danceability   energy  key  loudness  mode  speechiness  acousticness  \\\n",
       "0            0.220  0.00528    1   -36.410     0       0.0457       0.99500   \n",
       "1            0.210  0.14100    0   -15.641     1       0.0363       0.35300   \n",
       "2            0.210  0.14100    0   -15.641     1       0.0363       0.35300   \n",
       "3            0.477  0.00612    5   -36.199     1       0.0587       0.99600   \n",
       "4            0.388  0.23100    4   -15.395     0       0.0321       0.92100   \n",
       "...            ...      ...  ...       ...   ...          ...           ...   \n",
       "2477         0.659  0.62800    0    -8.685     0       0.1790       0.18600   \n",
       "2478         0.388  0.63100    4    -6.328     0       0.0391       0.00939   \n",
       "2479         0.538  0.55700   11    -8.678     1       0.0914       0.26200   \n",
       "2480         0.811  0.72600    0    -3.995     1       0.0813       0.15400   \n",
       "2481         0.647  0.51400    8   -10.050     1       0.0593       0.06550   \n",
       "\n",
       "      instrumentalness  liveness  valence    tempo  duration_ms  \\\n",
       "0              0.94400    0.1290   0.3040   74.434       362787   \n",
       "1              0.97300    0.2440   0.0381   98.395       119467   \n",
       "2              0.97300    0.2440   0.0381   98.395       119467   \n",
       "3              0.94300    0.0702   0.3560  101.196       161600   \n",
       "4              0.96800    0.1180   0.5330  139.654       125733   \n",
       "...                ...       ...      ...      ...          ...   \n",
       "2477           0.00000    0.1050   0.2620   94.050       219427   \n",
       "2478           0.00474    0.3720   0.2760  112.033       201432   \n",
       "2479           0.91400    0.1020   0.5060  131.030       231724   \n",
       "2480           0.00000    0.1160   0.6660  131.027       264920   \n",
       "2481           0.00000    0.3980   0.3860   79.975       240693   \n",
       "\n",
       "      time_signature  Clusters  \n",
       "0                  4         0  \n",
       "1                  3         6  \n",
       "2                  3         6  \n",
       "3                  3         0  \n",
       "4                  4         0  \n",
       "...              ...       ...  \n",
       "2477               4         5  \n",
       "2478               3         2  \n",
       "2479               4         9  \n",
       "2480               4         8  \n",
       "2481               4         1  \n",
       "\n",
       "[2482 rows x 14 columns]"
      ]
     },
     "execution_count": 4,
     "metadata": {},
     "output_type": "execute_result"
    }
   ],
   "source": [
    "df_songs = pd.read_csv(\"spotify_2_clustering.csv\")\n",
    "df_songs"
   ]
  },
  {
   "cell_type": "markdown",
   "id": "a26580fd",
   "metadata": {},
   "source": [
    "## Input Song"
   ]
  },
  {
   "cell_type": "code",
   "execution_count": 5,
   "id": "08dc71b2",
   "metadata": {
    "scrolled": true
   },
   "outputs": [
    {
     "name": "stdout",
     "output_type": "stream",
     "text": [
      "Enter the song and name of its artist: attrapen\n"
     ]
    }
   ],
   "source": [
    "songname = input(\"Enter the song and name of its artist: \")\n",
    "songname = songname.lower()\n",
    "\n",
    "results = sp.search(q = songname,limit=5, market=\"DE\")"
   ]
  },
  {
   "cell_type": "code",
   "execution_count": 6,
   "id": "a9b40369",
   "metadata": {},
   "outputs": [
    {
     "data": {
      "text/plain": [
       "['6LuAtG9sa0aU8GTMd9CQnO',\n",
       " '1dlAbh3GqgntOBvW6CLQRT',\n",
       " '6ro7bmnTuOhGoKeYFRPN3G',\n",
       " '49lh0GYyryaMVGkW7J0ZfG',\n",
       " '0aTaTaROrLwQokUSudVKIe']"
      ]
     },
     "execution_count": 6,
     "metadata": {},
     "output_type": "execute_result"
    }
   ],
   "source": [
    "l_artist = []\n",
    "ids = []\n",
    "for index in range (0, len(results[\"tracks\"][\"items\"])):\n",
    "    l_artist.append(results[\"tracks\"][\"items\"][index]['artists'][0][\"name\"])\n",
    "    ids.append(results[\"tracks\"][\"items\"][index]['id'])\n",
    "ids"
   ]
  },
  {
   "cell_type": "code",
   "execution_count": 7,
   "id": "03f91eda",
   "metadata": {},
   "outputs": [
    {
     "data": {
      "text/plain": [
       "['Sofiane', 'XATAR', 'Polo & Pan', 'Hatik', 'Polo & Pan']"
      ]
     },
     "execution_count": 7,
     "metadata": {},
     "output_type": "execute_result"
    }
   ],
   "source": [
    "l_artist\n"
   ]
  },
  {
   "cell_type": "code",
   "execution_count": 8,
   "id": "0a68ec91",
   "metadata": {
    "scrolled": true
   },
   "outputs": [
    {
     "name": "stdout",
     "output_type": "stream",
     "text": [
      "['Sofiane', 'XATAR', 'Polo & Pan', 'Hatik', 'Polo & Pan']\n",
      "Choose your artist: 1, 2, 3, 4 , 5?2\n"
     ]
    }
   ],
   "source": [
    "print(l_artist)\n",
    "choose_artist = input(\"Choose your artist: 1, 2, 3, 4 , 5?\")"
   ]
  },
  {
   "cell_type": "code",
   "execution_count": 9,
   "id": "3a372174",
   "metadata": {},
   "outputs": [
    {
     "data": {
      "text/plain": [
       "'1dlAbh3GqgntOBvW6CLQRT'"
      ]
     },
     "execution_count": 9,
     "metadata": {},
     "output_type": "execute_result"
    }
   ],
   "source": [
    "track_id = results[\"tracks\"][\"items\"][int(choose_artist)-1]['id']\n",
    "track_id"
   ]
  },
  {
   "cell_type": "code",
   "execution_count": null,
   "id": "2c8ec2e6",
   "metadata": {},
   "outputs": [],
   "source": [
    "df_songs = df_songs[\"track_id\"]"
   ]
  },
  {
   "cell_type": "code",
   "execution_count": 10,
   "id": "ca2bada6",
   "metadata": {},
   "outputs": [
    {
     "data": {
      "text/html": [
       "\n",
       "        <iframe\n",
       "            width=\"320\"\n",
       "            height=\"80\"\n",
       "            src=\"https://open.spotify.com/embed/track/1dlAbh3GqgntOBvW6CLQRT?frameborder=0&allowtransparency=true&allow=encrypted-media\"\n",
       "            frameborder=\"0\"\n",
       "            allowfullscreen\n",
       "            \n",
       "        ></iframe>\n",
       "        "
      ],
      "text/plain": [
       "<IPython.lib.display.IFrame at 0x2c981215e20>"
      ]
     },
     "execution_count": 10,
     "metadata": {},
     "output_type": "execute_result"
    }
   ],
   "source": [
    "from IPython.display import IFrame\n",
    "\n",
    "#track_id = \"0vHtlgsJoyA91YMNdImnCL\"\n",
    "\n",
    "IFrame(src=\"https://open.spotify.com/embed/track/\"+track_id,\n",
    "       width=\"320\",\n",
    "       height=\"80\",\n",
    "       frameborder=\"0\",\n",
    "       allowtransparency=\"true\",\n",
    "       allow=\"encrypted-media\",\n",
    "      )"
   ]
  },
  {
   "cell_type": "markdown",
   "id": "9031f2fe",
   "metadata": {},
   "source": [
    "## Getting Audio Features"
   ]
  },
  {
   "cell_type": "code",
   "execution_count": 11,
   "id": "b0a1ed0b",
   "metadata": {},
   "outputs": [
    {
     "name": "stdout",
     "output_type": "stream",
     "text": [
      "[{'danceability': 0.585, 'energy': 0.765, 'key': 8, 'loudness': -6.542, 'mode': 1, 'speechiness': 0.389, 'acousticness': 0.175, 'instrumentalness': 0, 'liveness': 0.0846, 'valence': 0.703, 'tempo': 90.823, 'type': 'audio_features', 'id': '1dlAbh3GqgntOBvW6CLQRT', 'uri': 'spotify:track:1dlAbh3GqgntOBvW6CLQRT', 'track_href': 'https://api.spotify.com/v1/tracks/1dlAbh3GqgntOBvW6CLQRT', 'analysis_url': 'https://api.spotify.com/v1/audio-analysis/1dlAbh3GqgntOBvW6CLQRT', 'duration_ms': 232080, 'time_signature': 4}]\n"
     ]
    }
   ],
   "source": [
    "list_af = []\n",
    "\n",
    "for item in results:\n",
    "    sp.audio_features(track_id)\n",
    "    list_af.append(sp.audio_features(track_id))\n",
    "    print(sp.audio_features(track_id))"
   ]
  },
  {
   "cell_type": "code",
   "execution_count": 12,
   "id": "7d7dad8c",
   "metadata": {},
   "outputs": [],
   "source": [
    "#list_af = [item[0] for item in list_af]"
   ]
  },
  {
   "cell_type": "code",
   "execution_count": 13,
   "id": "c84bf8bf",
   "metadata": {},
   "outputs": [],
   "source": [
    "df_af = pd.DataFrame(list_af[0])"
   ]
  },
  {
   "cell_type": "code",
   "execution_count": 14,
   "id": "5e8853fa",
   "metadata": {
    "scrolled": false
   },
   "outputs": [
    {
     "data": {
      "text/html": [
       "<div>\n",
       "<style scoped>\n",
       "    .dataframe tbody tr th:only-of-type {\n",
       "        vertical-align: middle;\n",
       "    }\n",
       "\n",
       "    .dataframe tbody tr th {\n",
       "        vertical-align: top;\n",
       "    }\n",
       "\n",
       "    .dataframe thead th {\n",
       "        text-align: right;\n",
       "    }\n",
       "</style>\n",
       "<table border=\"1\" class=\"dataframe\">\n",
       "  <thead>\n",
       "    <tr style=\"text-align: right;\">\n",
       "      <th></th>\n",
       "      <th>danceability</th>\n",
       "      <th>energy</th>\n",
       "      <th>key</th>\n",
       "      <th>loudness</th>\n",
       "      <th>mode</th>\n",
       "      <th>speechiness</th>\n",
       "      <th>acousticness</th>\n",
       "      <th>instrumentalness</th>\n",
       "      <th>liveness</th>\n",
       "      <th>valence</th>\n",
       "      <th>tempo</th>\n",
       "      <th>type</th>\n",
       "      <th>id</th>\n",
       "      <th>uri</th>\n",
       "      <th>track_href</th>\n",
       "      <th>analysis_url</th>\n",
       "      <th>duration_ms</th>\n",
       "      <th>time_signature</th>\n",
       "    </tr>\n",
       "  </thead>\n",
       "  <tbody>\n",
       "    <tr>\n",
       "      <th>0</th>\n",
       "      <td>0.585</td>\n",
       "      <td>0.765</td>\n",
       "      <td>8</td>\n",
       "      <td>-6.542</td>\n",
       "      <td>1</td>\n",
       "      <td>0.389</td>\n",
       "      <td>0.175</td>\n",
       "      <td>0</td>\n",
       "      <td>0.0846</td>\n",
       "      <td>0.703</td>\n",
       "      <td>90.823</td>\n",
       "      <td>audio_features</td>\n",
       "      <td>1dlAbh3GqgntOBvW6CLQRT</td>\n",
       "      <td>spotify:track:1dlAbh3GqgntOBvW6CLQRT</td>\n",
       "      <td>https://api.spotify.com/v1/tracks/1dlAbh3Gqgnt...</td>\n",
       "      <td>https://api.spotify.com/v1/audio-analysis/1dlA...</td>\n",
       "      <td>232080</td>\n",
       "      <td>4</td>\n",
       "    </tr>\n",
       "  </tbody>\n",
       "</table>\n",
       "</div>"
      ],
      "text/plain": [
       "   danceability  energy  key  loudness  mode  speechiness  acousticness  \\\n",
       "0         0.585   0.765    8    -6.542     1        0.389         0.175   \n",
       "\n",
       "   instrumentalness  liveness  valence   tempo            type  \\\n",
       "0                 0    0.0846    0.703  90.823  audio_features   \n",
       "\n",
       "                       id                                   uri  \\\n",
       "0  1dlAbh3GqgntOBvW6CLQRT  spotify:track:1dlAbh3GqgntOBvW6CLQRT   \n",
       "\n",
       "                                          track_href  \\\n",
       "0  https://api.spotify.com/v1/tracks/1dlAbh3Gqgnt...   \n",
       "\n",
       "                                        analysis_url  duration_ms  \\\n",
       "0  https://api.spotify.com/v1/audio-analysis/1dlA...       232080   \n",
       "\n",
       "   time_signature  \n",
       "0               4  "
      ]
     },
     "execution_count": 14,
     "metadata": {},
     "output_type": "execute_result"
    }
   ],
   "source": [
    "df_af"
   ]
  },
  {
   "cell_type": "code",
   "execution_count": 15,
   "id": "69eb3e4c",
   "metadata": {},
   "outputs": [],
   "source": [
    "df_af = df_af.drop([\"type\",\"uri\",\"track_href\",\"analysis_url\",\"id\"], axis = 1)"
   ]
  },
  {
   "cell_type": "code",
   "execution_count": 16,
   "id": "495ae219",
   "metadata": {},
   "outputs": [
    {
     "data": {
      "text/html": [
       "<div>\n",
       "<style scoped>\n",
       "    .dataframe tbody tr th:only-of-type {\n",
       "        vertical-align: middle;\n",
       "    }\n",
       "\n",
       "    .dataframe tbody tr th {\n",
       "        vertical-align: top;\n",
       "    }\n",
       "\n",
       "    .dataframe thead th {\n",
       "        text-align: right;\n",
       "    }\n",
       "</style>\n",
       "<table border=\"1\" class=\"dataframe\">\n",
       "  <thead>\n",
       "    <tr style=\"text-align: right;\">\n",
       "      <th></th>\n",
       "      <th>danceability</th>\n",
       "      <th>energy</th>\n",
       "      <th>key</th>\n",
       "      <th>loudness</th>\n",
       "      <th>mode</th>\n",
       "      <th>speechiness</th>\n",
       "      <th>acousticness</th>\n",
       "      <th>instrumentalness</th>\n",
       "      <th>liveness</th>\n",
       "      <th>valence</th>\n",
       "      <th>tempo</th>\n",
       "      <th>duration_ms</th>\n",
       "      <th>time_signature</th>\n",
       "    </tr>\n",
       "  </thead>\n",
       "  <tbody>\n",
       "    <tr>\n",
       "      <th>0</th>\n",
       "      <td>0.585</td>\n",
       "      <td>0.765</td>\n",
       "      <td>8</td>\n",
       "      <td>-6.542</td>\n",
       "      <td>1</td>\n",
       "      <td>0.389</td>\n",
       "      <td>0.175</td>\n",
       "      <td>0</td>\n",
       "      <td>0.0846</td>\n",
       "      <td>0.703</td>\n",
       "      <td>90.823</td>\n",
       "      <td>232080</td>\n",
       "      <td>4</td>\n",
       "    </tr>\n",
       "  </tbody>\n",
       "</table>\n",
       "</div>"
      ],
      "text/plain": [
       "   danceability  energy  key  loudness  mode  speechiness  acousticness  \\\n",
       "0         0.585   0.765    8    -6.542     1        0.389         0.175   \n",
       "\n",
       "   instrumentalness  liveness  valence   tempo  duration_ms  time_signature  \n",
       "0                 0    0.0846    0.703  90.823       232080               4  "
      ]
     },
     "execution_count": 16,
     "metadata": {},
     "output_type": "execute_result"
    }
   ],
   "source": [
    "X =df_af\n",
    "X"
   ]
  },
  {
   "cell_type": "markdown",
   "id": "c3fd2695",
   "metadata": {},
   "source": [
    "## Loading the StandardScaler and import pickle"
   ]
  },
  {
   "cell_type": "code",
   "execution_count": 17,
   "id": "f74f052e",
   "metadata": {},
   "outputs": [],
   "source": [
    "def load_pickle(filename = \"filename.pickle\"): \n",
    "    try: \n",
    "        with open(filename, \"rb\") as f: \n",
    "            return pickle.load(f) \n",
    "        \n",
    "    except FileNotFoundError: \n",
    "        print(\"File not found!\") \n"
   ]
  },
  {
   "cell_type": "code",
   "execution_count": 18,
   "id": "3d63c7d7",
   "metadata": {},
   "outputs": [],
   "source": [
    "scaler = load_pickle(r\"C:\\Users\\Mauricio\\Documents\\GitHub\\da_mauricio\\Spotify\\scaler.pickle\")\n",
    "model_kmeans = load_pickle(r\"C:\\Users\\Mauricio\\Documents\\GitHub\\da_mauricio\\Spotify\\kmeans_11.pickle\")"
   ]
  },
  {
   "cell_type": "code",
   "execution_count": 19,
   "id": "9a2b6bfc",
   "metadata": {},
   "outputs": [
    {
     "data": {
      "text/plain": [
       "Index(['danceability', 'energy', 'key', 'loudness', 'mode', 'speechiness',\n",
       "       'acousticness', 'instrumentalness', 'liveness', 'valence', 'tempo',\n",
       "       'duration_ms', 'time_signature'],\n",
       "      dtype='object')"
      ]
     },
     "execution_count": 19,
     "metadata": {},
     "output_type": "execute_result"
    }
   ],
   "source": [
    "columns = X.columns\n",
    "columns"
   ]
  },
  {
   "cell_type": "code",
   "execution_count": 20,
   "id": "8e3b9e48",
   "metadata": {},
   "outputs": [],
   "source": [
    "X_scaled = scaler.transform(X)\n",
    "X_scaled_df = pd.DataFrame(X_scaled, columns = X.columns)"
   ]
  },
  {
   "cell_type": "code",
   "execution_count": 21,
   "id": "84e6fa77",
   "metadata": {},
   "outputs": [
    {
     "data": {
      "text/html": [
       "<div>\n",
       "<style scoped>\n",
       "    .dataframe tbody tr th:only-of-type {\n",
       "        vertical-align: middle;\n",
       "    }\n",
       "\n",
       "    .dataframe tbody tr th {\n",
       "        vertical-align: top;\n",
       "    }\n",
       "\n",
       "    .dataframe thead th {\n",
       "        text-align: right;\n",
       "    }\n",
       "</style>\n",
       "<table border=\"1\" class=\"dataframe\">\n",
       "  <thead>\n",
       "    <tr style=\"text-align: right;\">\n",
       "      <th></th>\n",
       "      <th>danceability</th>\n",
       "      <th>energy</th>\n",
       "      <th>key</th>\n",
       "      <th>loudness</th>\n",
       "      <th>mode</th>\n",
       "      <th>speechiness</th>\n",
       "      <th>acousticness</th>\n",
       "      <th>instrumentalness</th>\n",
       "      <th>liveness</th>\n",
       "      <th>valence</th>\n",
       "      <th>tempo</th>\n",
       "      <th>duration_ms</th>\n",
       "      <th>time_signature</th>\n",
       "    </tr>\n",
       "  </thead>\n",
       "  <tbody>\n",
       "    <tr>\n",
       "      <th>0</th>\n",
       "      <td>-0.267916</td>\n",
       "      <td>0.419513</td>\n",
       "      <td>0.742332</td>\n",
       "      <td>0.293702</td>\n",
       "      <td>0.886347</td>\n",
       "      <td>3.682706</td>\n",
       "      <td>-0.268218</td>\n",
       "      <td>-0.502459</td>\n",
       "      <td>-0.66603</td>\n",
       "      <td>0.570857</td>\n",
       "      <td>-1.125706</td>\n",
       "      <td>-0.034714</td>\n",
       "      <td>0.183536</td>\n",
       "    </tr>\n",
       "  </tbody>\n",
       "</table>\n",
       "</div>"
      ],
      "text/plain": [
       "   danceability    energy       key  loudness      mode  speechiness  \\\n",
       "0     -0.267916  0.419513  0.742332  0.293702  0.886347     3.682706   \n",
       "\n",
       "   acousticness  instrumentalness  liveness   valence     tempo  duration_ms  \\\n",
       "0     -0.268218         -0.502459  -0.66603  0.570857 -1.125706    -0.034714   \n",
       "\n",
       "   time_signature  \n",
       "0        0.183536  "
      ]
     },
     "execution_count": 21,
     "metadata": {},
     "output_type": "execute_result"
    }
   ],
   "source": [
    "X_scaled_df"
   ]
  },
  {
   "cell_type": "code",
   "execution_count": 22,
   "id": "a4db82d4",
   "metadata": {},
   "outputs": [],
   "source": [
    "labels = model_kmeans.predict(X_scaled_df)"
   ]
  },
  {
   "cell_type": "code",
   "execution_count": 23,
   "id": "54e8cf49",
   "metadata": {},
   "outputs": [
    {
     "data": {
      "text/plain": [
       "array([10])"
      ]
     },
     "execution_count": 23,
     "metadata": {},
     "output_type": "execute_result"
    }
   ],
   "source": [
    "labels"
   ]
  },
  {
   "cell_type": "code",
   "execution_count": 24,
   "id": "c8b67f81",
   "metadata": {},
   "outputs": [
    {
     "ename": "NameError",
     "evalue": "name 'kmeans' is not defined",
     "output_type": "error",
     "traceback": [
      "\u001b[1;31m---------------------------------------------------------------------------\u001b[0m",
      "\u001b[1;31mNameError\u001b[0m                                 Traceback (most recent call last)",
      "Input \u001b[1;32mIn [24]\u001b[0m, in \u001b[0;36m<cell line: 1>\u001b[1;34m()\u001b[0m\n\u001b[1;32m----> 1\u001b[0m clusters \u001b[38;5;241m=\u001b[39m \u001b[43mkmeans\u001b[49m\u001b[38;5;241m.\u001b[39mpredict(X_scaled_df)\n\u001b[0;32m      2\u001b[0m \u001b[38;5;66;03m#clusters\u001b[39;00m\n\u001b[0;32m      3\u001b[0m \u001b[38;5;66;03m#pd.Series(clusters).value_counts().sort_index()\u001b[39;00m\n\u001b[0;32m      4\u001b[0m \u001b[38;5;66;03m#kmeans.inertia_\u001b[39;00m\n\u001b[0;32m      5\u001b[0m clusters\n",
      "\u001b[1;31mNameError\u001b[0m: name 'kmeans' is not defined"
     ]
    }
   ],
   "source": [
    "clusters = kmeans.predict(X_scaled_df)\n",
    "#clusters\n",
    "#pd.Series(clusters).value_counts().sort_index()\n",
    "#kmeans.inertia_\n",
    "clusters"
   ]
  },
  {
   "cell_type": "code",
   "execution_count": null,
   "id": "de74175e",
   "metadata": {},
   "outputs": [],
   "source": [
    "recommendation =X_scaled_df[X_scaled_df[\"cluster\"] ==labels[0]].sample()"
   ]
  },
  {
   "cell_type": "code",
   "execution_count": null,
   "id": "70271247",
   "metadata": {},
   "outputs": [],
   "source": []
  }
 ],
 "metadata": {
  "kernelspec": {
   "display_name": "Python 3 (ipykernel)",
   "language": "python",
   "name": "python3"
  },
  "language_info": {
   "codemirror_mode": {
    "name": "ipython",
    "version": 3
   },
   "file_extension": ".py",
   "mimetype": "text/x-python",
   "name": "python",
   "nbconvert_exporter": "python",
   "pygments_lexer": "ipython3",
   "version": "3.9.12"
  }
 },
 "nbformat": 4,
 "nbformat_minor": 5
}
