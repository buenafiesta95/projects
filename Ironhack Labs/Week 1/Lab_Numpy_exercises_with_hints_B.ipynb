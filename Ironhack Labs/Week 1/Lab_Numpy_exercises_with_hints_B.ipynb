{
 "cells": [
  {
   "cell_type": "code",
   "execution_count": 3,
   "id": "2ca6c9b2",
   "metadata": {},
   "outputs": [],
   "source": [
    "# numpy exercises\n",
    "'''\n",
    "This is a collection of exercises that have been collected in the numpy mailing list, on stack overflow\n",
    "and in the numpy documentation. The goal of this collection is to offer a quick reference for both old\n",
    "and new users but also to provide a set of exercises for those who teach.\n",
    "\n",
    "If you find an error or think you've a better way to solve some of them, feel\n",
    "free to open an issue at <https://github.com/rougier/numpy-100>.\n",
    "File automatically generated. See the documentation to update questions/answers/hints programmatically.\n",
    "\n",
    "#### 1. Import the numpy package under the name `np` (★☆☆)\n",
    "`hint: import … as`\n",
    "'''\n",
    "import numpy as np"
   ]
  },
  {
   "cell_type": "code",
   "execution_count": 5,
   "id": "a9bb4484",
   "metadata": {},
   "outputs": [
    {
     "data": {
      "text/plain": [
       "array([0., 0., 0., 0., 0., 0., 0., 0., 0., 0.])"
      ]
     },
     "execution_count": 5,
     "metadata": {},
     "output_type": "execute_result"
    }
   ],
   "source": [
    "#### 2. Create a null vector of size 10 (★☆☆)\n",
    "#`hint: np.zeros`\n",
    "vector0 = np.zeros(10)\n",
    "vector0"
   ]
  },
  {
   "cell_type": "code",
   "execution_count": 12,
   "id": "63f79131",
   "metadata": {},
   "outputs": [
    {
     "data": {
      "text/plain": [
       "array([0, 0, 0, 0, 1, 0, 0, 0, 0, 0])"
      ]
     },
     "execution_count": 12,
     "metadata": {},
     "output_type": "execute_result"
    }
   ],
   "source": [
    "#### 3. Create a null vector of size 10 but the fifth value which is 1 (★☆☆)\n",
    "#`hint: array[4]`\n",
    "vector01 = np.array([int(x==4) for x in range(10)])\n",
    "vector01"
   ]
  },
  {
   "cell_type": "code",
   "execution_count": 20,
   "id": "c36809d8",
   "metadata": {},
   "outputs": [
    {
     "data": {
      "text/plain": [
       "array([10, 11, 12, 13, 14, 15, 16, 17, 18, 19, 20, 21, 22, 23, 24, 25, 26,\n",
       "       27, 28, 29, 30, 31, 32, 33, 34, 35, 36, 37, 38, 39, 40, 41, 42, 43,\n",
       "       44, 45, 46, 47, 48, 49])"
      ]
     },
     "execution_count": 20,
     "metadata": {},
     "output_type": "execute_result"
    }
   ],
   "source": [
    "#### 4. Create a vector with values ranging from 10 to 49 (★☆☆)\n",
    "#`hint: arange`\n",
    "v_rang = np.arange(10,50)\n",
    "v_rang"
   ]
  },
  {
   "cell_type": "code",
   "execution_count": 30,
   "id": "e3cf43ea",
   "metadata": {},
   "outputs": [
    {
     "data": {
      "text/plain": [
       "array([[0, 1, 2],\n",
       "       [3, 4, 5],\n",
       "       [6, 7, 8]])"
      ]
     },
     "execution_count": 30,
     "metadata": {},
     "output_type": "execute_result"
    }
   ],
   "source": [
    "#### 5. Create a 3x3 matrix with values ranging from 0 to 8 (★☆☆)\n",
    "#`hint: reshape`\n",
    "mat_3 = np.arange(0,9).reshape((3,3))\n",
    "mat_3\n"
   ]
  },
  {
   "cell_type": "code",
   "execution_count": 33,
   "id": "f4566c78",
   "metadata": {},
   "outputs": [
    {
     "data": {
      "text/plain": [
       "(array([0, 1, 4], dtype=int64),)"
      ]
     },
     "execution_count": 33,
     "metadata": {},
     "output_type": "execute_result"
    }
   ],
   "source": [
    "#### 6. Find indices of non-zero elements from [1,2,0,0,4,0] (★☆☆)\n",
    "#`hint: np.nonzero`\n",
    "x = [1,2,0,0,4,0]\n",
    "v_nonzero = np.nonzero(x)\n",
    "v_nonzero\n"
   ]
  },
  {
   "cell_type": "code",
   "execution_count": 38,
   "id": "23429429",
   "metadata": {},
   "outputs": [
    {
     "data": {
      "text/plain": [
       "array([[1., 0., 0.],\n",
       "       [0., 1., 0.],\n",
       "       [0., 0., 1.]])"
      ]
     },
     "execution_count": 38,
     "metadata": {},
     "output_type": "execute_result"
    }
   ],
   "source": [
    "#### 7. Create a 3x3 identity matrix (★☆☆)\n",
    "#`hint: np.eye`\n",
    "np.eye(3)"
   ]
  },
  {
   "cell_type": "code",
   "execution_count": 39,
   "id": "61450fcf",
   "metadata": {},
   "outputs": [
    {
     "data": {
      "text/plain": [
       "array([[[0.76967706, 0.8023667 , 0.54472672],\n",
       "        [0.94217555, 0.0451306 , 0.2117003 ],\n",
       "        [0.9746269 , 0.17461162, 0.40911897]],\n",
       "\n",
       "       [[0.67825525, 0.21537099, 0.53744679],\n",
       "        [0.00108752, 0.1045223 , 0.79110505],\n",
       "        [0.14943634, 0.5268795 , 0.3239753 ]],\n",
       "\n",
       "       [[0.35246666, 0.00254355, 0.82390728],\n",
       "        [0.56195771, 0.60103548, 0.91152371],\n",
       "        [0.37911199, 0.74767541, 0.72359126]]])"
      ]
     },
     "execution_count": 39,
     "metadata": {},
     "output_type": "execute_result"
    }
   ],
   "source": [
    "#### 8. Create a 3x3x3 array with random values (★☆☆)\n",
    "#`hint: np.random.random`\n",
    "np.random.random((3,3,3))\n"
   ]
  },
  {
   "cell_type": "code",
   "execution_count": 49,
   "id": "20c73294",
   "metadata": {},
   "outputs": [
    {
     "name": "stdout",
     "output_type": "stream",
     "text": [
      "0.01061178968147447 0.9952432785810379\n"
     ]
    }
   ],
   "source": [
    "#### 9. Create a 10x10 array with random values and find the minimum and maximum values (★☆☆)\n",
    "#`hint: min, max`\n",
    "a = np.random.random((10,10))\n",
    "#print(a)\n",
    "amin, amax = a.min(), a.max() \n",
    "print( amin,amax)"
   ]
  },
  {
   "cell_type": "code",
   "execution_count": 52,
   "id": "4155d832",
   "metadata": {},
   "outputs": [
    {
     "data": {
      "text/plain": [
       "0.5333588318351343"
      ]
     },
     "execution_count": 52,
     "metadata": {},
     "output_type": "execute_result"
    }
   ],
   "source": [
    "#### 10. Create a random vector of size 30 and find the mean value (★☆☆)\n",
    "#`hint: mean`\n",
    "b = np.random.random(30)\n",
    "b_mean = np.mean(b)\n",
    "b_mean"
   ]
  },
  {
   "cell_type": "code",
   "execution_count": 76,
   "id": "f8d03b11",
   "metadata": {},
   "outputs": [
    {
     "name": "stdout",
     "output_type": "stream",
     "text": [
      "[[0 0 0 0 0]\n",
      " [1 0 0 0 0]\n",
      " [0 2 0 0 0]\n",
      " [0 0 3 0 0]\n",
      " [0 0 0 4 0]]\n"
     ]
    }
   ],
   "source": [
    "#### 11. Create a 5x5 matrix with values 1,2,3,4 just below the diagonal (★☆☆)\n",
    "#`hint: np.diag` # extract or contruct a diagonal array\n",
    "#numpy.diag(v, k=0) , v = array_like , k = int, optional, diagonal in question, default is 0\n",
    "D = np.diag(1+np.arange(4), k =-1)\n",
    "print (Z)"
   ]
  },
  {
   "cell_type": "code",
   "execution_count": 80,
   "id": "dbdb2e90",
   "metadata": {},
   "outputs": [
    {
     "data": {
      "text/plain": [
       "array([[ 1.33144693, -1.06436241,  0.51459275,  1.71644483, -1.5478296 ],\n",
       "       [-0.68478117,  0.95689792,  0.65712332, -0.3811362 ,  0.44837881],\n",
       "       [ 1.36973362, -0.37777997, -0.22060922, -1.86592563,  0.10932848],\n",
       "       [-0.00460458, -1.60288732, -0.73862576, -0.27845134, -1.02677589],\n",
       "       [ 1.4126747 , -0.07073388, -0.06073753, -0.16765487,  1.576274  ]])"
      ]
     },
     "execution_count": 80,
     "metadata": {},
     "output_type": "execute_result"
    }
   ],
   "source": [
    "#### 12. Normalize a 5x5 random matrix (★☆☆)\n",
    "#`hint: (x -mean)/std`\n",
    "#means to scale the values such that that the range of the row \n",
    "# or column values is between 0 and 1\n",
    "E = np.random.random((5,5))\n",
    "norm_E = (E - np.mean(E)) / np.std(E)\n",
    "norm_E\n"
   ]
  },
  {
   "cell_type": "code",
   "execution_count": 89,
   "id": "d33d9418",
   "metadata": {},
   "outputs": [
    {
     "name": "stdout",
     "output_type": "stream",
     "text": [
      "[0.31861474 0.14299734 0.60441123 0.30804358 0.93301771]\n",
      "[0.32348288 0.58960986 0.21517986 0.45373495 0.71488732]\n",
      "[]\n"
     ]
    }
   ],
   "source": [
    "#### 13. How to find common values between two arrays? (★☆☆)\n",
    "#`hint: np.intersect1d`\n",
    "A1 = np.random.random(5)\n",
    "A2 = np.random.random(5)\n",
    "\n",
    "#intersect_A1A2 = np.intersect1d(A1,A2)\n",
    "print(A1)\n",
    "print(A2)\n",
    "print(np.intersect1d(A1,A2))"
   ]
  },
  {
   "cell_type": "code",
   "execution_count": 90,
   "id": "7ef1255d",
   "metadata": {},
   "outputs": [
    {
     "name": "stdout",
     "output_type": "stream",
     "text": [
      "[1, 5, 3, 6, 9]\n",
      "[5, 8, 8, 9, 3]\n",
      "[3 5 9]\n"
     ]
    }
   ],
   "source": [
    "B1 = [1,5,3,6,9]\n",
    "B2 = [5,8,8,9,3]\n",
    "\n",
    "print(B1)\n",
    "print(B2)\n",
    "print(np.intersect1d(B1,B2))"
   ]
  },
  {
   "cell_type": "code",
   "execution_count": 103,
   "id": "6973b268",
   "metadata": {},
   "outputs": [
    {
     "name": "stdout",
     "output_type": "stream",
     "text": [
      "Matrix non sorted\n",
      "[0.52347821 0.46194652 0.83368548 0.14320015 0.79127115 0.18737621\n",
      " 0.12991187 0.78697818 0.2368926  0.91109689]\n",
      "Sorted matrix\n",
      "[0.12991187 0.14320015 0.18737621 0.2368926  0.46194652 0.52347821\n",
      " 0.78697818 0.79127115 0.83368548 0.91109689]\n"
     ]
    }
   ],
   "source": [
    "#### 14. Create a random vector of size 10 and sort it (★★☆)\n",
    "#`hint: sort`\n",
    "C = np.random.random(10)\n",
    "\n",
    "print('Matrix non sorted')\n",
    "print(C)\n",
    "\n",
    "#  sorting the list in ascending order\n",
    "C.sort()\n",
    "\n",
    "print('Sorted matrix')\n",
    "print(C)"
   ]
  },
  {
   "cell_type": "code",
   "execution_count": 108,
   "id": "8ba15c51",
   "metadata": {},
   "outputs": [
    {
     "name": "stdout",
     "output_type": "stream",
     "text": [
      "Original array:\n",
      "[0.90592763 0.93863677 0.34982839 0.63665463 0.53690115 0.80178938\n",
      " 0.42799638 0.78545172 0.65246438 0.1560409 ]\n",
      "Maximum value replaced by 0:\n",
      "[0.90592763 0.         0.34982839 0.63665463 0.53690115 0.80178938\n",
      " 0.42799638 0.78545172 0.65246438 0.1560409 ]\n"
     ]
    }
   ],
   "source": [
    "#### 15. Create random vector of size 10 and replace the maximum value by 0 (★★☆)\n",
    "#`hint: argmax`\n",
    "D = np.random.random(10)\n",
    "print(\"Original array:\")\n",
    "\n",
    "print(D)\n",
    "\n",
    "print(\"Maximum value replaced by 0:\")\n",
    "\n",
    "D[D.argmax()] = 0\n",
    "print(D)\n",
    "\n"
   ]
  },
  {
   "cell_type": "code",
   "execution_count": 118,
   "id": "911ae816",
   "metadata": {},
   "outputs": [
    {
     "name": "stdout",
     "output_type": "stream",
     "text": [
      "Original matrix\n",
      "[[0.11412697 0.68542628 0.59051383]\n",
      " [0.81111102 0.00114519 0.2638728 ]\n",
      " [0.78118165 0.1873305  0.73299717]]\n",
      "Mean of each row of the matrix\n",
      "[[0.46335569]\n",
      " [0.35870967]\n",
      " [0.56716977]]\n",
      "Substraction between the original matrix and the mean\n",
      "[[-0.34922872  0.22207059  0.12715813]\n",
      " [ 0.45240135 -0.35756448 -0.09483687]\n",
      " [ 0.21401188 -0.37983927  0.16582739]]\n"
     ]
    }
   ],
   "source": [
    "#### 16. Subtract the mean of each row of a matrix (★★☆)\n",
    "#`hint: mean(axis=,keepdims=)`\n",
    "F = np.random.random((3,3))\n",
    "\n",
    "print('Original matrix')\n",
    "print(F)\n",
    "\n",
    "print('Mean of each row of the matrix')\n",
    "print(F.mean(axis = 1, keepdims = True))\n",
    "\n",
    "print('Substraction between the original matrix and the mean')\n",
    "F_substract = F - F.mean(axis = 1, keepdims = True)\n",
    "print(F_substract)"
   ]
  },
  {
   "cell_type": "code",
   "execution_count": 124,
   "id": "576ea454",
   "metadata": {},
   "outputs": [
    {
     "name": "stdout",
     "output_type": "stream",
     "text": [
      "Sorted array: [   0    1    2 ... 9997 9998 9999]\n",
      "5 largest value: [9995 9996 9997 9998 9999]\n"
     ]
    }
   ],
   "source": [
    "#### 17. How to get the n largest values of an array (★★★)\n",
    "Z = np.arange(10000)\n",
    "\n",
    "#Shuffle a list (reorganize the order of the list items)\n",
    "np.random.shuffle(Z)\n",
    "n = 5\n",
    "\n",
    "#slow way, np.argsort() is to sort an array\n",
    "sorted_index_array = np.argsort(Z)\n",
    "\n",
    "# sorted array\n",
    "sorted_array = Z[sorted_index_array]\n",
    "print(\"Sorted array:\", sorted_array)\n",
    "\n",
    "# we want n=5 largest value (see above)\n",
    "# we are using negative indexing concept  \n",
    "# take n largest value\n",
    "rslt = sorted_array[-n : ]\n",
    "\n",
    "# show the output\n",
    "print(\"{} largest value:\".format(n),\n",
    "      rslt)\n",
    "#print(Z[np.argsort(Z)/np.argpartition`\n"
   ]
  },
  {
   "cell_type": "code",
   "execution_count": 125,
   "id": "272a7776",
   "metadata": {},
   "outputs": [
    {
     "name": "stdout",
     "output_type": "stream",
     "text": [
      "[[ 0  1  2]\n",
      " [ 3  4  5]\n",
      " [ 6  7  8]\n",
      " [ 9 10 11]\n",
      " [12 13 14]]\n",
      "Replacing of items or squaring which are larger than 4\n"
     ]
    },
    {
     "data": {
      "text/plain": [
       "array([[  0,   1,   2],\n",
       "       [  3,   4,   5],\n",
       "       [ 36,  49,  64],\n",
       "       [ 81, 100, 121],\n",
       "       [144, 169, 196]])"
      ]
     },
     "execution_count": 125,
     "metadata": {},
     "output_type": "execute_result"
    }
   ],
   "source": [
    "\n",
    "#### 18. Create a random 5*3 matrix and replace items that are larger than 4 by their squares ( Example:  6 --> 36) \n",
    "#`hint: np.where`\n",
    "Y = np.arange(0,15).reshape(5,3)\n",
    "print(Y)\n",
    "print(\"Replacing of items or squaring which are larger than 4\")\n",
    "Y = np.where(Y <= 5, Y, Y**2)\n",
    "Y"
   ]
  },
  {
   "cell_type": "code",
   "execution_count": 1,
   "id": "4a469ad1",
   "metadata": {},
   "outputs": [
    {
     "data": {
      "text/plain": [
       "[1, 4, 9]"
      ]
     },
     "execution_count": 1,
     "metadata": {},
     "output_type": "execute_result"
    }
   ],
   "source": [
    "my_list = [ 1, 2, 3]\n",
    "\n",
    "list( map( lambda x: x**2, my_list ) ) "
   ]
  },
  {
   "cell_type": "code",
   "execution_count": 2,
   "id": "3eff357b",
   "metadata": {},
   "outputs": [],
   "source": [
    "my_list = [1,2,3]\n",
    "yout_list = [4,5,6]\n",
    "l=[]\n",
    "for n in my_list:\n",
    "    l.append(n**2)"
   ]
  },
  {
   "cell_type": "code",
   "execution_count": 3,
   "id": "a29170cb",
   "metadata": {},
   "outputs": [
    {
     "data": {
      "text/plain": [
       "[1, 4, 9]"
      ]
     },
     "execution_count": 3,
     "metadata": {},
     "output_type": "execute_result"
    }
   ],
   "source": [
    "l"
   ]
  },
  {
   "cell_type": "code",
   "execution_count": null,
   "id": "74171d1c",
   "metadata": {},
   "outputs": [],
   "source": [
    "def sqr(x): \n",
    "    return x**2\n",
    "    "
   ]
  },
  {
   "cell_type": "code",
   "execution_count": null,
   "id": "9935e1d1",
   "metadata": {},
   "outputs": [],
   "source": [
    "def mult(x): \n",
    "    return x*y"
   ]
  },
  {
   "cell_type": "code",
   "execution_count": null,
   "id": "f7f07e6d",
   "metadata": {},
   "outputs": [],
   "source": [
    "mult(2,3)"
   ]
  },
  {
   "cell_type": "code",
   "execution_count": null,
   "id": "a536ca04",
   "metadata": {},
   "outputs": [],
   "source": [
    "l = list(map(mult, my_list, your_list))"
   ]
  },
  {
   "cell_type": "code",
   "execution_count": null,
   "id": "e51fa15a",
   "metadata": {},
   "outputs": [],
   "source": [
    "l"
   ]
  }
 ],
 "metadata": {
  "kernelspec": {
   "display_name": "Python 3 (ipykernel)",
   "language": "python",
   "name": "python3"
  },
  "language_info": {
   "codemirror_mode": {
    "name": "ipython",
    "version": 3
   },
   "file_extension": ".py",
   "mimetype": "text/x-python",
   "name": "python",
   "nbconvert_exporter": "python",
   "pygments_lexer": "ipython3",
   "version": "3.9.12"
  }
 },
 "nbformat": 4,
 "nbformat_minor": 5
}
